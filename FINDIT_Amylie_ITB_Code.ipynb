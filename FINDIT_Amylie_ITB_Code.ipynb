{
 "cells": [
  {
   "cell_type": "markdown",
   "metadata": {},
   "source": [
    "# FIND IT 2021 - Tim AMYLIE"
   ]
  },
  {
   "cell_type": "markdown",
   "metadata": {},
   "source": [
    "## A. Importing"
   ]
  },
  {
   "cell_type": "code",
   "execution_count": 2,
   "metadata": {},
   "outputs": [],
   "source": [
    "import numpy as np\n",
    "import pandas as pd\n",
    "\n",
    "import matplotlib.pyplot as plt\n",
    "import seaborn as sns\n",
    "import re\n",
    "\n",
    "from sklearn.model_selection import train_test_split\n",
    "from sklearn.ensemble import RandomForestRegressor, VotingRegressor, AdaBoostRegressor\n",
    "from sklearn.metrics import classification_report as report\n",
    "from xgboost import XGBClassifier, plot_importance, XGBRegressor\n",
    "from sklearn.metrics import confusion_matrix, mean_squared_error as mse\n",
    "from lightgbm import LGBMRegressor\n",
    "from sklearn.preprocessing import LabelEncoder\n",
    "\n",
    "from catboost import CatBoostRegressor\n",
    "from sklearn.impute import SimpleImputer\n",
    "from sklearn.model_selection import KFold, cross_val_score, RepeatedKFold, cross_val_predict, StratifiedKFold\n",
    "import tqdm\n",
    "from sklearn.impute import SimpleImputer\n",
    "from sklearn.model_selection import GridSearchCV, RandomizedSearchCV\n",
    "from sklearn.cluster import KMeans\n",
    "\n",
    "from hyperopt import tpe, hp, fmin, STATUS_OK,Trials\n",
    "from hyperopt.pyll.base import scope\n",
    "\n",
    "import warnings\n",
    "warnings.filterwarnings(\"ignore\")\n",
    "# from skopt import BayesSearchCV\n",
    "# from skopt.space import Real, Categorical, Integer"
   ]
  },
  {
   "cell_type": "code",
   "execution_count": 22,
   "metadata": {},
   "outputs": [],
   "source": [
    "pd.set_option('display.max_columns',None)"
   ]
  },
  {
   "cell_type": "markdown",
   "metadata": {},
   "source": [
    "## B. Preprocessing"
   ]
  },
  {
   "cell_type": "markdown",
   "metadata": {},
   "source": [
    "### Data Input"
   ]
  },
  {
   "cell_type": "code",
   "execution_count": 65,
   "metadata": {},
   "outputs": [],
   "source": [
    "# Berikut adalah code yang digunakan untuk membaca Dataset Train & Test\n",
    "\n",
    "# Note: Apabila test ingin diganti oleh panitia untuk melakukan prediksi terhadap \"Private-Test Set\", dapat diubah pada code\n",
    "# di bawah ini, yakni pada variabel \"test\"\n",
    "\n",
    "train = pd.read_csv('public-train.csv', delimiter='|')\n",
    "test = pd.read_csv('public-test.csv', delimiter='|')"
   ]
  },
  {
   "cell_type": "markdown",
   "metadata": {},
   "source": [
    "### Main Preprocessing Pipeline"
   ]
  },
  {
   "cell_type": "code",
   "execution_count": 66,
   "metadata": {},
   "outputs": [],
   "source": [
    "train.drop_duplicates(inplace=True)\n",
    "\n",
    "def word_counter(s):\n",
    "    if pd.isna(s):\n",
    "        return np.nan\n",
    "    else:\n",
    "        res = re.sub('[!\"#$%&\\'()*+,-./:;<=>?@[\\\\]^_`{|}~—]', '', s)\n",
    "        return len(res.strip().split(' '))\n",
    "    \n",
    "train['word_count'] = train['description'].map(lambda x: word_counter(x))\n",
    "test['word_count'] = test['description'].map(lambda x: word_counter(x))\n",
    "\n",
    "\n",
    "train_labeled = train.loc[~train['price'].isna(),:].copy()\n",
    "train_unlabeled = train.loc[train['price'].isna(),:].copy()\n",
    "\n",
    "test_price = test['price']\n",
    "\n",
    "coldrop = ['bookedition', 'reading_age', 'published_date', 'lexile_measure', 'grade_level', 'description','price']\n",
    "train_labeled.drop(columns=coldrop, inplace=True)\n",
    "train_unlabeled.drop(columns=coldrop, inplace=True)\n",
    "test.drop(columns=coldrop, inplace=True)\n",
    "\n",
    "numcol = train_labeled.select_dtypes(exclude='object').columns.tolist()\n",
    "\n",
    "genre_weight = []\n",
    "for i in range(10):\n",
    "    a = f'genre_{i}_weight'\n",
    "    genre_weight.append(a)\n",
    "\n",
    "for col in genre_weight:\n",
    "    numcol.remove(col)\n",
    "\n",
    "med = SimpleImputer(strategy='median')\n",
    "train_labeled[numcol] = med.fit_transform(train_labeled[numcol])\n",
    "train_unlabeled[numcol] = med.transform(train_unlabeled[numcol])\n",
    "\n",
    "train_all = pd.concat([train_labeled, train_unlabeled], axis=0)\n",
    "med.fit(train_all[numcol])\n",
    "test[numcol] = med.transform(test[numcol])\n",
    "\n",
    "\n",
    "# ---\n",
    "# Step 1: Normal Variables\n",
    "cats_nongenre = ['author_id', 'bookformat', 'publisher_id']\n",
    "\n",
    "# For loop\n",
    "for cat in cats_nongenre:\n",
    "    cat_list = list(set(train_all[cat].unique().tolist())) #PERLU DIUBAH JADI TRAIN, CONCAT DLU UNLABELED+LABELED\n",
    "    labels = [i for i in range(0, len(cat_list))]\n",
    "    cat_dict = dict(zip(cat_list, labels))\n",
    "    train_labeled[cat] = train_labeled[cat].apply(lambda x: cat_dict[x] if x in cat_dict else -1) \n",
    "    train_unlabeled[cat] = train_unlabeled[cat].apply(lambda x: cat_dict[x] if x in cat_dict else -1)\n",
    "    test[cat] = test[cat].apply(lambda x: cat_dict[x] if x in cat_dict else -1)\n",
    "\n",
    "    \n",
    "# ---\n",
    "# Step 2: Genres\n",
    "cats_genre = ['genre_0', 'genre_1', 'genre_2', 'genre_3', 'genre_4', 'genre_5', 'genre_6', 'genre_7', 'genre_8', 'genre_9']\n",
    "\n",
    "# For loop, Create Unique Dictionary\n",
    "genre_list = []\n",
    "for cat in cats_genre:\n",
    "    genre_list.extend(train_all[cat].unique().tolist())\n",
    "    \n",
    "# NaN is not a category, so we omit it by doing so.\n",
    "genre_list = sorted(list(set(genre_list))[1:])\n",
    "labels = [i for i in range(0,len(genre_list))]\n",
    "genre_dict = dict(zip(genre_list, labels))\n",
    "\n",
    "# Next, we map it to the columns\n",
    "for cat in cats_genre:\n",
    "    train_labeled[cat] = train_labeled[cat].apply(lambda x: genre_dict[x] if x in genre_dict else np.nan)\n",
    "    train_unlabeled[cat] = train_unlabeled[cat].apply(lambda x: genre_dict[x] if x in genre_dict else np.nan)\n",
    "    test[cat] = test[cat].apply(lambda x: genre_dict[x] if x in genre_dict else np.nan)\n",
    "# ---\n",
    "\n",
    "for col in cats_genre:\n",
    "    train_labeled[col] = train_labeled[col].fillna(-1)\n",
    "    train_unlabeled[col] = train_unlabeled[col].fillna(-1)\n",
    "    test[col] = test[col].fillna(-1)\n",
    "\n",
    "train_labeled[cats_genre] = train_labeled[cats_genre].astype('int')\n",
    "train_unlabeled[cats_genre] = train_unlabeled[cats_genre].astype('int')  \n",
    "test[cats_genre] = test[cats_genre].astype('int')  \n",
    "\n",
    "# Perimeter feature\n",
    "train_labeled['perimeter'] = (train_labeled['dimension_0'] * 4 + train_labeled['dimension_1'] * 4 + train_labeled['dimension_2'] * 4)\n",
    "train_unlabeled['perimeter'] = (train_unlabeled['dimension_0'] * 4 + train_unlabeled['dimension_1'] * 4 + train_unlabeled['dimension_2'] * 4)\n",
    "test['perimeter'] = (test['dimension_0'] * 4 + test['dimension_1'] * 4 + test['dimension_2'] * 4)\n",
    "\n",
    "# Reimpute price\n",
    "train_labeled['price'] = train.loc[~train['price'].isna(),:].price.copy()"
   ]
  },
  {
   "cell_type": "code",
   "execution_count": 8,
   "metadata": {},
   "outputs": [
    {
     "data": {
      "text/plain": [
       "Hardcover                357\n",
       "Paperback                 90\n",
       "Kindle Edition            44\n",
       "Mass Market Paperback      6\n",
       "Comics                     2\n",
       "Spiral-bound               1\n",
       "Name: bookformat, dtype: int64"
      ]
     },
     "execution_count": 8,
     "metadata": {},
     "output_type": "execute_result"
    }
   ],
   "source": [
    "test['bookformat'].value_counts()"
   ]
  },
  {
   "cell_type": "code",
   "execution_count": 9,
   "metadata": {},
   "outputs": [
    {
     "data": {
      "text/plain": [
       "Hardcover                2524\n",
       "Paperback                 714\n",
       "Kindle Edition            201\n",
       "Mass Market Paperback      43\n",
       "ebook                      42\n",
       "Board Book                  3\n",
       "Nook                        3\n",
       "paperback                   2\n",
       "Unknown Binding             1\n",
       "Spiral-bound                1\n",
       "Library Binding             1\n",
       "Comics                      1\n",
       "Trade Paperback             1\n",
       "Name: bookformat, dtype: int64"
      ]
     },
     "execution_count": 9,
     "metadata": {},
     "output_type": "execute_result"
    }
   ],
   "source": [
    "train['bookformat'].value_counts()"
   ]
  },
  {
   "cell_type": "code",
   "execution_count": 10,
   "metadata": {},
   "outputs": [
    {
     "data": {
      "text/plain": [
       "<AxesSubplot:xlabel='bookformat', ylabel='price'>"
      ]
     },
     "execution_count": 10,
     "metadata": {},
     "output_type": "execute_result"
    },
    {
     "data": {
      "image/png": "[encoded data removed]",
      "text/plain": [
       "<Figure size 432x288 with 1 Axes>"
      ]
     },
     "metadata": {
      "needs_background": "light"
     },
     "output_type": "display_data"
    }
   ],
   "source": [
    "sns.boxplot(x='bookformat', y='price',data=train, )"
   ]
  },
  {
   "cell_type": "markdown",
   "metadata": {},
   "source": [
    "---"
   ]
  },
  {
   "cell_type": "markdown",
   "metadata": {},
   "source": [
    "## C. Modelling"
   ]
  },
  {
   "cell_type": "code",
   "execution_count": 32,
   "metadata": {},
   "outputs": [],
   "source": [
    "x = train_labeled.drop(columns=['price'])\n",
    "x = x.drop(columns=genre_weight)\n",
    "y = train_labeled['price']\n",
    "# labeled = pd.concat([x,y], axis=1)"
   ]
  },
  {
   "cell_type": "code",
   "execution_count": 40,
   "metadata": {},
   "outputs": [
    {
     "name": "stdout",
     "output_type": "stream",
     "text": [
      "121348.28168008263\n"
     ]
    }
   ],
   "source": [
    "catcol = cats_nongenre + cats_genre\n",
    "\n",
    "catb = CatBoostRegressor(cat_features=catcol,\n",
    "                       verbose=0,random_state=69)\n",
    "catb.fit(x,y)\n",
    "cv = KFold(n_splits=5)\n",
    "val = cross_val_score(catb, x,y,scoring='neg_root_mean_squared_error', cv=cv)\n",
    "print(np.mean(val*-1))"
   ]
  },
  {
   "cell_type": "code",
   "execution_count": 16,
   "metadata": {},
   "outputs": [
    {
     "data": {
      "text/plain": [
       "120800"
      ]
     },
     "execution_count": 16,
     "metadata": {},
     "output_type": "execute_result"
    }
   ],
   "source": [
    "120800"
   ]
  },
  {
   "cell_type": "code",
   "execution_count": 17,
   "metadata": {},
   "outputs": [
    {
     "data": {
      "image/png": "[encoded data removed]",
      "text/plain": [
       "<Figure size 576x576 with 1 Axes>"
      ]
     },
     "metadata": {
      "needs_background": "light"
     },
     "output_type": "display_data"
    }
   ],
   "source": [
    "fi = pd.DataFrame()\n",
    "fi['col'] = x.columns.tolist()\n",
    "fi['FI'] = catb.get_feature_importance()\n",
    "fi.sort_values(by=['FI'], inplace=True)\n",
    "\n",
    "fig, ax = plt.subplots(figsize=(8,8))\n",
    "ax.barh(fi['col'],fi['FI'])\n",
    "\n",
    "name = 'FI labeled.svg'\n",
    "fig.savefig(name, format='svg', bbox_inches='tight', dpi=1200)"
   ]
  },
  {
   "cell_type": "code",
   "execution_count": 34,
   "metadata": {},
   "outputs": [
    {
     "name": "stdout",
     "output_type": "stream",
     "text": [
      "127594.03311827555\n"
     ]
    }
   ],
   "source": [
    "xgb = XGBRegressor(n_estimators=300, objective='reg:squarederror', random_state=69)\n",
    "xgb.fit(x, y)\n",
    "cv = KFold(n_splits=5)\n",
    "val = cross_val_score(xgb, x,y,scoring='neg_root_mean_squared_error', cv=cv)\n",
    "print(np.mean(val*-1))"
   ]
  },
  {
   "cell_type": "code",
   "execution_count": 41,
   "metadata": {},
   "outputs": [
    {
     "name": "stdout",
     "output_type": "stream",
     "text": [
      "120823.95773067654\n"
     ]
    }
   ],
   "source": [
    "rf = RandomForestRegressor(random_state=69)\n",
    "rf.fit(x,y)\n",
    "cv = KFold(n_splits=5)\n",
    "val = cross_val_score(rf, x,y,scoring='neg_root_mean_squared_error', cv=cv)\n",
    "print(np.mean(val*-1))"
   ]
  },
  {
   "cell_type": "code",
   "execution_count": 36,
   "metadata": {},
   "outputs": [
    {
     "name": "stdout",
     "output_type": "stream",
     "text": [
      "125109.45702048813\n"
     ]
    }
   ],
   "source": [
    "lgbm = LGBMRegressor(n_estimators=300, random_state=69)\n",
    "lgbm.fit(x,y)\n",
    "cv = KFold(n_splits=5)\n",
    "val = cross_val_score(lgbm, x,y,scoring='neg_root_mean_squared_error', cv=cv)\n",
    "print(np.mean(val*-1))"
   ]
  },
  {
   "cell_type": "code",
   "execution_count": 37,
   "metadata": {},
   "outputs": [
    {
     "name": "stdout",
     "output_type": "stream",
     "text": [
      "130850.37926823692\n"
     ]
    }
   ],
   "source": [
    "ada = AdaBoostRegressor(n_estimators=300, random_state=69)\n",
    "ada.fit(x,y)\n",
    "cv = KFold(n_splits=5)\n",
    "val = cross_val_score(ada, x,y,scoring='neg_root_mean_squared_error', cv=cv)\n",
    "print(np.mean(val*-1))"
   ]
  },
  {
   "cell_type": "markdown",
   "metadata": {},
   "source": [
    "## D. Hyperparameter Tuning"
   ]
  },
  {
   "cell_type": "code",
   "execution_count": 62,
   "metadata": {},
   "outputs": [
    {
     "name": "stdout",
     "output_type": "stream",
     "text": [
      "100%|██████████████████████████████████████████████| 100/100 [18:37<00:00, 11.17s/trial, best loss: 122738.81607307619]\n",
      "Best: {'colsample_bylevel': 0.4, 'learning_rate': 0.0544620898189349, 'max_depth': 8.0, 'n_estimators': 950.0}\n"
     ]
    }
   ],
   "source": [
    "# CatBoost\n",
    "space = {\n",
    "    \"n_estimators\": hp.quniform(\"n_estimators\",300,1200,50),\n",
    "    \"max_depth\": hp.quniform(\"max_depth\", 4, 15,1),\n",
    "    \"learning_rate\": hp.uniform(\"learning_rate\", 0.01,0.1),\n",
    "    'colsample_bylevel': hp.quniform('colsample_bylevel', 0.3, 0.8, 0.1)\n",
    "}\n",
    "catcol = cats_nongenre.extend(cats_genre)\n",
    "def hyperparameter_tuning(params):\n",
    "    catb = CatBoostRegressor(cat_features=catcol,random_state=69, verbose=0)\n",
    "    cv = KFold(n_splits=5)\n",
    "    val = cross_val_score(catb, x,y,scoring='neg_root_mean_squared_error', cv=cv).mean()\n",
    "    return {\"loss\": -val, \"status\": STATUS_OK}\n",
    "\n",
    "# Initialize trials object\n",
    "trials = Trials()\n",
    "\n",
    "best_cat = fmin(\n",
    "    fn=hyperparameter_tuning,\n",
    "    space = space, \n",
    "    algo=tpe.suggest, \n",
    "    max_evals=100, \n",
    "    trials=trials\n",
    ")\n",
    "\n",
    "print(\"Best: {}\".format(best_cat))"
   ]
  },
  {
   "cell_type": "code",
   "execution_count": 57,
   "metadata": {},
   "outputs": [
    {
     "name": "stdout",
     "output_type": "stream",
     "text": [
      "100%|██████████████████████████████████████████████| 100/100 [00:51<00:00,  1.92trial/s, best loss: 127584.99822491893]\n",
      "Best: {'colsample_bytree': 0.0859792300576232, 'eta': 0.06625663512490243, 'max_depth': 6.0, 'n_estimators': 100.0, 'subsample': 0.9283307458216526}\n"
     ]
    }
   ],
   "source": [
    "# XGBoost\n",
    "space = {\n",
    "    \"n_estimators\": hp.quniform(\"n_estimators\", 100,1000,25),\n",
    "    \"max_depth\": hp.quniform(\"max_depth\", 1, 15,1),\n",
    "    \"eta\": hp.uniform(\"eta\", 0.01,0.1),\n",
    "    \"subsample\": hp.uniform(\"subsample\", 0,1),\n",
    "    \"colsample_bytree\": hp.uniform(\"colsample_bytree\", 0,1)\n",
    "}\n",
    "\n",
    "def hyperparameter_tuning(params):\n",
    "    xgb = XGBRegressor(objective='reg:squarederror', random_state=69)\n",
    "    cv = KFold(n_splits=5)\n",
    "    val = cross_val_score(xgb, x,y,scoring='neg_root_mean_squared_error', cv=cv).mean()\n",
    "    return {\"loss\": -val, \"status\": STATUS_OK}\n",
    "\n",
    "# Initialize trials object\n",
    "trials = Trials()\n",
    "\n",
    "best_xgb = fmin(\n",
    "    fn=hyperparameter_tuning,\n",
    "    space = space, \n",
    "    algo=tpe.suggest, \n",
    "    max_evals=100, \n",
    "    trials=trials\n",
    ")\n",
    "\n",
    "print(\"Best: {}\".format(best_xgb))"
   ]
  },
  {
   "cell_type": "code",
   "execution_count": 58,
   "metadata": {},
   "outputs": [
    {
     "name": "stdout",
     "output_type": "stream",
     "text": [
      "100%|██████████████████████████████████████████████| 100/100 [02:45<00:00,  1.65s/trial, best loss: 120823.95773067654]\n",
      "Best: {'max_depth': 13.0, 'max_features': 1, 'min_samples_leaf': 14.0, 'n_estimators': 650.0}\n"
     ]
    }
   ],
   "source": [
    "# Random Forest\n",
    "space = {\n",
    "    \"n_estimators\": hp.quniform(\"n_estimators\", 100,1000,25),\n",
    "    \"max_depth\": hp.quniform(\"max_depth\", 1, 20,1),\n",
    "    \"max_features\": hp.choice('max_features',['auto', 'sqrt']),\n",
    "    \"min_samples_leaf\": hp.quniform(\"min_samples_leaf\", 1,15,1)\n",
    "}\n",
    "\n",
    "def hyperparameter_tuning(params):\n",
    "    rf = RandomForestRegressor(random_state=69)\n",
    "    cv = KFold(n_splits=5)\n",
    "    val = cross_val_score(rf, x,y,scoring='neg_root_mean_squared_error', cv=cv).mean()\n",
    "    return {\"loss\": -val, \"status\": STATUS_OK}\n",
    "\n",
    "# Initialize trials object\n",
    "trials = Trials()\n",
    "\n",
    "best_rf = fmin(\n",
    "    fn=hyperparameter_tuning,\n",
    "    space = space, \n",
    "    algo=tpe.suggest, \n",
    "    max_evals=100, \n",
    "    trials=trials\n",
    ")\n",
    "\n",
    "print(\"Best: {}\".format(best_rf))"
   ]
  },
  {
   "cell_type": "code",
   "execution_count": 59,
   "metadata": {},
   "outputs": [
    {
     "name": "stdout",
     "output_type": "stream",
     "text": [
      "100%|███████████████████████████████████████████████| 100/100 [00:22<00:00,  4.54trial/s, best loss: 123824.5326069046]\n",
      "Best: {'learning_rate': 0.09272247434187608, 'max_depth': 3.0, 'n_estimators': 350.0, 'subsample': 0.8985646779081392}\n"
     ]
    }
   ],
   "source": [
    "# Light GBM\n",
    "space = {\n",
    "    \"n_estimators\": hp.quniform(\"n_estimators\", 100,1000,25),\n",
    "    \"max_depth\": hp.quniform(\"max_depth\", 1, 15,1),\n",
    "    \"learning_rate\": hp.uniform(\"learning_rate\", 0.01,0.1),\n",
    "    \"subsample\": hp.uniform(\"subsample\", 0,1)\n",
    "}\n",
    "\n",
    "def hyperparameter_tuning(params):\n",
    "    lgbm = LGBMRegressor(objective='root_mean_squared_error', random_state=69)\n",
    "    cv = KFold(n_splits=5)\n",
    "    val = cross_val_score(lgbm, x,y,scoring='neg_root_mean_squared_error', cv=cv).mean()\n",
    "    return {\"loss\": -val, \"status\": STATUS_OK}\n",
    "\n",
    "# Initialize trials object\n",
    "trials = Trials()\n",
    "\n",
    "best_lgbm = fmin(\n",
    "    fn=hyperparameter_tuning,\n",
    "    space = space, \n",
    "    algo=tpe.suggest, \n",
    "    max_evals=100, \n",
    "    trials=trials\n",
    ")\n",
    "\n",
    "print(\"Best: {}\".format(best_lgbm))"
   ]
  },
  {
   "cell_type": "code",
   "execution_count": 60,
   "metadata": {},
   "outputs": [
    {
     "name": "stdout",
     "output_type": "stream",
     "text": [
      "100%|██████████████████████████████████████████████| 100/100 [00:44<00:00,  2.27trial/s, best loss: 130081.53217109837]\n",
      "Best: {'learning_rate': 0.061799726030297396, 'n_estimators': 400.0}\n"
     ]
    }
   ],
   "source": [
    "# AdaBoost\n",
    "space = {\n",
    "    \"n_estimators\": hp.quniform(\"n_estimators\", 100,1000,25),\n",
    "    \"learning_rate\": hp.uniform(\"learning_rate\", 0.01,0.1),\n",
    "}\n",
    "\n",
    "def hyperparameter_tuning(params):\n",
    "    ada = AdaBoostRegressor(random_state=69)\n",
    "    cv = KFold(n_splits=5)\n",
    "    val = cross_val_score(ada, x,y,scoring='neg_root_mean_squared_error', cv=cv).mean()\n",
    "    return {\"loss\": -val, \"status\": STATUS_OK}\n",
    "\n",
    "# Initialize trials object\n",
    "trials = Trials()\n",
    "\n",
    "best_ada = fmin(\n",
    "    fn=hyperparameter_tuning,\n",
    "    space = space, \n",
    "    algo=tpe.suggest, \n",
    "    max_evals=100, \n",
    "    trials=trials\n",
    ")\n",
    "\n",
    "print(\"Best: {}\".format(best_ada))"
   ]
  },
  {
   "cell_type": "code",
   "execution_count": 63,
   "metadata": {},
   "outputs": [
    {
     "name": "stdout",
     "output_type": "stream",
     "text": [
      "120970.86790226554\n"
     ]
    }
   ],
   "source": [
    "# Hypertuned Models Ensembled with Voting Regressor\n",
    "catcol = cats_nongenre + cats_genre\n",
    "estimator = [\n",
    "    ('catboost', CatBoostRegressor(iterations=950, cat_features=catcol,random_state=69, max_depth=8,\n",
    "                                   learning_rate= 0.0544620898189349, colsample_bylevel= 0.4, verbose=0)),\n",
    "    ('xgb', XGBRegressor(n_estimators=400, eta= 0.0905523309944472,colsample_bytree= 0.0859792300576232,\n",
    "                          max_depth= 9, subsample= 0.03074811769423491, objective='reg:squarederror', random_state=69)),\n",
    "    ('rf', RandomForestRegressor(n_estimators=650, max_depth=13,max_features= 'auto',\n",
    "                                 min_samples_leaf=14, random_state=69)),\n",
    "    ('lgbm', LGBMRegressor(objective='root_mean_squared_error', n_estimators=350, learning_rate=0.09272247434187608,\n",
    "                           subsample= 0.8985646779081392,\n",
    "                           max_depth=3, random_state=69)),\n",
    "    ('ada', AdaBoostRegressor(n_estimators=400, learning_rate=0.061799726030297396, random_state=69))\n",
    "]\n",
    "vote = VotingRegressor(estimators=estimator)\n",
    "vote.fit(x,y)\n",
    "cv = KFold(n_splits=5)\n",
    "val = cross_val_score(vote, x,y,scoring='neg_root_mean_squared_error', cv=cv)\n",
    "print(np.mean(val*-1))"
   ]
  },
  {
   "cell_type": "code",
   "execution_count": 22,
   "metadata": {},
   "outputs": [
    {
     "name": "stdout",
     "output_type": "stream",
     "text": [
      "121508.91564616436\n"
     ]
    }
   ],
   "source": [
    "# Hypertuned Models Ensembled with Voting Regressor\n",
    "catcol = cats_nongenre + cats_genre\n",
    "estimator = [\n",
    "    ('catboost', CatBoostRegressor(iterations=100, cat_features=catcol,random_state=69, depth=8,\n",
    "                                   learning_rate= 0.09828695333835749, verbose=0)),\n",
    "    ('xgb', XGBRegressor(n_estimators=100, eta= 0.06625663512490243,colsample_bytree= 0.40649044167540616,\n",
    "                          max_depth= 6, subsample= 0.928330745821652, objective='reg:squarederror', random_state=69)),\n",
    "    ('rf', RandomForestRegressor(n_estimators=300, max_depth=16,max_features= 'auto',\n",
    "                                 min_samples_leaf=11, random_state=69)),\n",
    "    ('lgbm', LGBMRegressor(objective='root_mean_squared_error', n_estimators=100, learning_rate=0.047426394631992275, subsample= 0.2144640497130379,\n",
    "                           max_depth=3, random_state=69)),\n",
    "    ('ada', AdaBoostRegressor(n_estimators=400, learning_rate=0.08617627226458403, random_state=69))\n",
    "]\n",
    "vote = VotingRegressor(estimators=estimator)\n",
    "vote.fit(x,y)\n",
    "cv = KFold(n_splits=5)\n",
    "val = cross_val_score(vote, x,y,scoring='neg_root_mean_squared_error', cv=cv)\n",
    "print(np.mean(val*-1))"
   ]
  },
  {
   "cell_type": "markdown",
   "metadata": {},
   "source": [
    "## E. Input Train ALL"
   ]
  },
  {
   "cell_type": "code",
   "execution_count": 67,
   "metadata": {},
   "outputs": [],
   "source": [
    "train_unlabeled.drop(columns=genre_weight, inplace=True)\n",
    "train_unlabeled['price'] = vote.predict(train_unlabeled) \n",
    "\n",
    "train_all = pd.concat([train_labeled.drop(columns=genre_weight), train_unlabeled], axis=0)\n",
    "# train_all = pd.read_csv('train_all.csv')\n",
    "\n",
    "# # FE of Perimeter\n",
    "# train_all['perimeter'] = (train_all['dimension_0'] * 4 + train_all['dimension_1'] * 4 + train_all['dimension_2'] * 4)\n",
    "# test['perimeter'] = (test['dimension_0'] * 4 + test['dimension_1'] * 4 + test['dimension_2'] * 4)\n",
    "\n",
    "train_all.to_csv('train_all_2.csv', index=False)\n",
    "\n",
    "train_all = pd.read_csv('train_all_2.csv')\n",
    "\n",
    "train_all_x = train_all.drop(columns=['price'])\n",
    "train_all_y = train_all['price']"
   ]
  },
  {
   "cell_type": "code",
   "execution_count": 69,
   "metadata": {},
   "outputs": [
    {
     "name": "stdout",
     "output_type": "stream",
     "text": [
      "RMSE result for Test Set : \n"
     ]
    },
    {
     "data": {
      "text/plain": [
       "169924.472995557"
      ]
     },
     "execution_count": 69,
     "metadata": {},
     "output_type": "execute_result"
    }
   ],
   "source": [
    "catcol = cats_nongenre + cats_genre\n",
    "\n",
    "catb = CatBoostRegressor(cat_features=catcol,\n",
    "                       verbose=0)\n",
    "catb.fit(train_all_x,train_all_y)\n",
    "pred = catb.predict(test_x)\n",
    "print('RMSE result for Test Set : ')\n",
    "mse(test_y, pred, squared=False)"
   ]
  },
  {
   "cell_type": "code",
   "execution_count": 16,
   "metadata": {},
   "outputs": [
    {
     "data": {
      "text/plain": [
       "120800"
      ]
     },
     "execution_count": 16,
     "metadata": {},
     "output_type": "execute_result"
    }
   ],
   "source": [
    "120800"
   ]
  },
  {
   "cell_type": "code",
   "execution_count": 48,
   "metadata": {},
   "outputs": [
    {
     "data": {
      "text/plain": [
       "<BarContainer object of 24 artists>"
      ]
     },
     "execution_count": 48,
     "metadata": {},
     "output_type": "execute_result"
    },
    {
     "data": {
      "image/png": "[encoded data removed]",
      "text/plain": [
       "<Figure size 576x576 with 1 Axes>"
      ]
     },
     "metadata": {
      "needs_background": "light"
     },
     "output_type": "display_data"
    }
   ],
   "source": [
    "fi = pd.DataFrame()\n",
    "fi['col'] = x.columns.tolist()\n",
    "fi['FI'] = catb.get_feature_importance()\n",
    "fi.sort_values(by=['FI'], inplace=True)\n",
    "\n",
    "fig, ax = plt.subplots(figsize=(8,8))\n",
    "ax.barh(fi['col'],fi['FI'])\n",
    "\n",
    "# name = 'FI labeled.svg'\n",
    "# fig.savefig(name, format='svg', bbox_inches='tight', dpi=1200)"
   ]
  },
  {
   "cell_type": "code",
   "execution_count": 70,
   "metadata": {},
   "outputs": [
    {
     "name": "stdout",
     "output_type": "stream",
     "text": [
      "RMSE result for Test Set : \n"
     ]
    },
    {
     "data": {
      "text/plain": [
       "174175.47391940316"
      ]
     },
     "execution_count": 70,
     "metadata": {},
     "output_type": "execute_result"
    }
   ],
   "source": [
    "xgb = XGBRegressor(n_estimators=300, objective='reg:squarederror', random_state=69)\n",
    "xgb.fit(train_all_x,train_all_y)\n",
    "pred = xgb.predict(test_x)\n",
    "print('RMSE result for Test Set : ')\n",
    "mse(test_y, pred, squared=False)"
   ]
  },
  {
   "cell_type": "code",
   "execution_count": 71,
   "metadata": {},
   "outputs": [
    {
     "name": "stdout",
     "output_type": "stream",
     "text": [
      "RMSE result for Test Set : \n"
     ]
    },
    {
     "data": {
      "text/plain": [
       "172904.02864261623"
      ]
     },
     "execution_count": 71,
     "metadata": {},
     "output_type": "execute_result"
    }
   ],
   "source": [
    "rf = RandomForestRegressor(n_estimators=300, max_depth=15, random_state=69)\n",
    "rf.fit(train_all_x,train_all_y)\n",
    "pred = rf.predict(test_x)\n",
    "print('RMSE result for Test Set : ')\n",
    "mse(test_y, pred, squared=False)"
   ]
  },
  {
   "cell_type": "code",
   "execution_count": 72,
   "metadata": {},
   "outputs": [
    {
     "name": "stdout",
     "output_type": "stream",
     "text": [
      "RMSE result for Test Set : \n"
     ]
    },
    {
     "data": {
      "text/plain": [
       "176622.71255052753"
      ]
     },
     "execution_count": 72,
     "metadata": {},
     "output_type": "execute_result"
    }
   ],
   "source": [
    "lgbm = LGBMRegressor(n_estimators=300, random_state=69)\n",
    "lgbm.fit(train_all_x,train_all_y)\n",
    "pred = lgbm.predict(test_x)\n",
    "print('RMSE result for Test Set : ')\n",
    "mse(test_y, pred, squared=False)"
   ]
  },
  {
   "cell_type": "code",
   "execution_count": 73,
   "metadata": {},
   "outputs": [
    {
     "name": "stdout",
     "output_type": "stream",
     "text": [
      "RMSE result for Test Set : \n"
     ]
    },
    {
     "data": {
      "text/plain": [
       "179796.82372095843"
      ]
     },
     "execution_count": 73,
     "metadata": {},
     "output_type": "execute_result"
    }
   ],
   "source": [
    "ada = AdaBoostRegressor(n_estimators=300, random_state=69)\n",
    "ada.fit(train_all_x,train_all_y)\n",
    "pred = ada.predict(test_x)\n",
    "print('RMSE result for Test Set : ')\n",
    "mse(test_y, pred, squared=False)"
   ]
  },
  {
   "cell_type": "markdown",
   "metadata": {},
   "source": [
    "## F. Hypertuning Model for Train_all"
   ]
  },
  {
   "cell_type": "code",
   "execution_count": 75,
   "metadata": {},
   "outputs": [],
   "source": [
    "test_x = test.drop(columns=genre_weight)\n",
    "test_y = test_price"
   ]
  },
  {
   "cell_type": "code",
   "execution_count": 77,
   "metadata": {},
   "outputs": [
    {
     "name": "stdout",
     "output_type": "stream",
     "text": [
      "100%|██████████████████████████████████████████████| 100/100 [05:35<00:00,  3.36s/trial, best loss: 170759.64820121185]\n",
      "Best: {'colsample_bylevel': 0.6000000000000001, 'learning_rate': 0.011065727010349745, 'max_depth': 6.0, 'n_estimators': 750.0}\n"
     ]
    }
   ],
   "source": [
    "# CatBoost\n",
    "space = {\n",
    "    \"n_estimators\": hp.quniform(\"n_estimators\",300,1200,50),\n",
    "    \"max_depth\": hp.quniform(\"max_depth\", 4, 15,1),\n",
    "    \"learning_rate\": hp.uniform(\"learning_rate\", 0.01,0.1),\n",
    "    'colsample_bylevel': hp.quniform('colsample_bylevel', 0.3, 0.8, 0.1)\n",
    "}\n",
    "catcol = cats_nongenre.extend(cats_genre)\n",
    "def hyperparameter_tuning(params):\n",
    "    catb = CatBoostRegressor(cat_features=catcol,random_state=69, verbose=0)\n",
    "    catb.fit(train_all_x, train_all_y)\n",
    "    pred = catb.predict(test_x)\n",
    "    val = mse(test_y, pred, squared=False)\n",
    "    return {\"loss\": val, \"status\": STATUS_OK}\n",
    "\n",
    "# Initialize trials object\n",
    "trials = Trials()\n",
    "\n",
    "best_cat = fmin(\n",
    "    fn=hyperparameter_tuning,\n",
    "    space = space, \n",
    "    algo=tpe.suggest, \n",
    "    max_evals=100, \n",
    "    trials=trials\n",
    ")\n",
    "\n",
    "print(\"Best: {}\".format(best_cat))"
   ]
  },
  {
   "cell_type": "code",
   "execution_count": 78,
   "metadata": {},
   "outputs": [
    {
     "name": "stdout",
     "output_type": "stream",
     "text": [
      "100%|██████████████████████████████████████████████| 100/100 [00:30<00:00,  3.33trial/s, best loss: 174152.72568813906]\n",
      "Best: {'colsample_bytree': 0.881806735425383, 'eta': 0.08320560857685327, 'max_depth': 4.0, 'n_estimators': 550.0, 'subsample': 0.4858511868988319}\n"
     ]
    }
   ],
   "source": [
    "# XGBoost\n",
    "space = {\n",
    "    \"n_estimators\": hp.quniform(\"n_estimators\", 100,1000,25),\n",
    "    \"max_depth\": hp.quniform(\"max_depth\", 1, 15,1),\n",
    "    \"eta\": hp.uniform(\"eta\", 0.01,0.1),\n",
    "    \"subsample\": hp.uniform(\"subsample\", 0,1),\n",
    "    \"colsample_bytree\": hp.uniform(\"colsample_bytree\", 0,1)\n",
    "}\n",
    "\n",
    "def hyperparameter_tuning(params):\n",
    "    xgb = XGBRegressor(objective='reg:squarederror', random_state=69)\n",
    "    xgb.fit(train_all_x, train_all_y)\n",
    "    pred = xgb.predict(test_x)\n",
    "    val = mse(test_y, pred, squared=False)\n",
    "    return {\"loss\": val, \"status\": STATUS_OK}\n",
    "\n",
    "# Initialize trials object\n",
    "trials = Trials()\n",
    "\n",
    "best_xgb = fmin(\n",
    "    fn=hyperparameter_tuning,\n",
    "    space = space, \n",
    "    algo=tpe.suggest, \n",
    "    max_evals=100, \n",
    "    trials=trials\n",
    ")\n",
    "\n",
    "print(\"Best: {}\".format(best_xgb))"
   ]
  },
  {
   "cell_type": "code",
   "execution_count": 82,
   "metadata": {},
   "outputs": [
    {
     "name": "stdout",
     "output_type": "stream",
     "text": [
      "100%|██████████████████████████████████████████████| 100/100 [04:17<00:00,  2.58s/trial, best loss: 174099.20526059266]\n",
      "Best: {'max_depth': 3.0, 'max_features': 0, 'min_samples_leaf': 2.0, 'n_estimators': 300.0}\n"
     ]
    }
   ],
   "source": [
    "# Random Forest\n",
    "space = {\n",
    "    \"n_estimators\": hp.quniform(\"n_estimators\", 100,1000,25),\n",
    "    \"max_depth\": hp.quniform(\"max_depth\", 2, 20,1),\n",
    "    \"max_features\": hp.choice('max_features',['auto', 'sqrt']),\n",
    "    \"min_samples_leaf\": hp.quniform(\"min_samples_leaf\", 1,15,1)\n",
    "}\n",
    "\n",
    "def hyperparameter_tuning(params):\n",
    "    rf = RandomForestRegressor(random_state=69)\n",
    "    rf.fit(train_all_x, train_all_y)\n",
    "    pred = rf.predict(test_x)\n",
    "    val = mse(test_y, pred, squared=False)\n",
    "    return {\"loss\": val, \"status\": STATUS_OK}\n",
    "\n",
    "# Initialize trials object\n",
    "trials = Trials()\n",
    "\n",
    "best_rf = fmin(\n",
    "    fn=hyperparameter_tuning,\n",
    "    space = space, \n",
    "    algo=tpe.suggest, \n",
    "    max_evals=100, \n",
    "    trials=trials\n",
    ")\n",
    "\n",
    "print(\"Best: {}\".format(best_rf))"
   ]
  },
  {
   "cell_type": "code",
   "execution_count": 80,
   "metadata": {},
   "outputs": [
    {
     "name": "stdout",
     "output_type": "stream",
     "text": [
      "100%|██████████████████████████████████████████████| 100/100 [00:11<00:00,  8.34trial/s, best loss: 175338.57646777076]\n",
      "Best: {'learning_rate': 0.054436443139513395, 'max_depth': 11.0, 'n_estimators': 450.0, 'subsample': 0.26624550206336195}\n"
     ]
    }
   ],
   "source": [
    "# Light GBM\n",
    "space = {\n",
    "    \"n_estimators\": hp.quniform(\"n_estimators\", 100,1000,25),\n",
    "    \"max_depth\": hp.quniform(\"max_depth\", 1, 15,1),\n",
    "    \"learning_rate\": hp.uniform(\"learning_rate\", 0.01,0.1),\n",
    "    \"subsample\": hp.uniform(\"subsample\", 0,1)\n",
    "}\n",
    "\n",
    "def hyperparameter_tuning(params):\n",
    "    lgbm = LGBMRegressor(objective='root_mean_squared_error', random_state=69)\n",
    "    lgbm.fit(train_all_x, train_all_y)\n",
    "    pred = lgbm.predict(test_x)\n",
    "    val = mse(test_y, pred, squared=False)\n",
    "    return {\"loss\": val, \"status\": STATUS_OK}\n",
    "\n",
    "# Initialize trials object\n",
    "trials = Trials()\n",
    "\n",
    "best_lgbm = fmin(\n",
    "    fn=hyperparameter_tuning,\n",
    "    space = space, \n",
    "    algo=tpe.suggest, \n",
    "    max_evals=100, \n",
    "    trials=trials\n",
    ")\n",
    "\n",
    "print(\"Best: {}\".format(best_lgbm))"
   ]
  },
  {
   "cell_type": "code",
   "execution_count": 81,
   "metadata": {},
   "outputs": [
    {
     "name": "stdout",
     "output_type": "stream",
     "text": [
      "100%|███████████████████████████████████████████████| 100/100 [00:32<00:00,  3.11trial/s, best loss: 179074.4907830813]\n",
      "Best: {'learning_rate': 0.06252173426169733, 'n_estimators': 400.0}\n"
     ]
    }
   ],
   "source": [
    "# AdaBoost\n",
    "space = {\n",
    "    \"n_estimators\": hp.quniform(\"n_estimators\", 100,1000,25),\n",
    "    \"learning_rate\": hp.uniform(\"learning_rate\", 0.01,0.1),\n",
    "}\n",
    "\n",
    "def hyperparameter_tuning(params):\n",
    "    ada = AdaBoostRegressor(random_state=69)\n",
    "    ada.fit(train_all_x, train_all_y)\n",
    "    pred = ada.predict(test_x)\n",
    "    val = mse(test_y, pred, squared=False)\n",
    "    return {\"loss\": val, \"status\": STATUS_OK}\n",
    "\n",
    "# Initialize trials object\n",
    "trials = Trials()\n",
    "\n",
    "best_ada = fmin(\n",
    "    fn=hyperparameter_tuning,\n",
    "    space = space, \n",
    "    algo=tpe.suggest, \n",
    "    max_evals=100, \n",
    "    trials=trials\n",
    ")\n",
    "\n",
    "print(\"Best: {}\".format(best_ada))"
   ]
  },
  {
   "cell_type": "markdown",
   "metadata": {},
   "source": [
    "## G. Voting Regressor for Train ALL"
   ]
  },
  {
   "cell_type": "code",
   "execution_count": 46,
   "metadata": {},
   "outputs": [
    {
     "name": "stdout",
     "output_type": "stream",
     "text": [
      "RMSE result for Test Set : \n"
     ]
    },
    {
     "data": {
      "text/plain": [
       "168876.36591621497"
      ]
     },
     "execution_count": 46,
     "metadata": {},
     "output_type": "execute_result"
    }
   ],
   "source": [
    "# Hypetuned Models Ensembled with Voting Regressor for Train_all\n",
    "estimator = [\n",
    "    ('catboost', CatBoostRegressor(iterations=300, cat_features=catcol,random_state=69, depth=11,\n",
    "                                   learning_rate= 0.05990044272853458, colsample_bylevel= 0.6,verbose=0)),\n",
    "    ('xgb', XGBRegressor(n_estimators=500, eta= 0.04638072852567231,colsample_bytree= 0.34666747042517165,\n",
    "                          max_depth= 15, subsample= 0.1822452768121341, objective='reg:squarederror', random_state=69)),\n",
    "    ('rf', RandomForestRegressor(n_estimators=500, max_depth=9,max_features= 'auto',\n",
    "                                 min_samples_leaf=14, random_state=69)),\n",
    "    ('lgbm', LGBMRegressor(objective='root_mean_squared_error', n_estimators=100, learning_rate= 0.055235847205381654, subsample= 0.19837565816972547,\n",
    "                           max_depth=14, random_state=69)),\n",
    "    ('ada', AdaBoostRegressor(n_estimators=100, learning_rate=0.0848671249579081, random_state=69))\n",
    "]\n",
    "newvote = VotingRegressor(estimators=estimator)\n",
    "newvote.fit(train_all_x,train_all_y)\n",
    "pred = newvote.predict(test_x)\n",
    "print('RMSE result for Test Set : ')\n",
    "mse(test_y, pred, squared=False)"
   ]
  },
  {
   "cell_type": "code",
   "execution_count": null,
   "metadata": {},
   "outputs": [],
   "source": [
    "pred.to_csv('public test set prediction.csv', index=False)"
   ]
  }
 ],
 "metadata": {
  "kernelspec": {
   "display_name": "Python 3",
   "language": "python",
   "name": "python3"
  },
  "language_info": {
   "codemirror_mode": {
    "name": "ipython",
    "version": 3
   },
   "file_extension": ".py",
   "mimetype": "text/x-python",
   "name": "python",
   "nbconvert_exporter": "python",
   "pygments_lexer": "ipython3",
   "version": "3.8.5"
  },
  "toc": {
   "base_numbering": 1,
   "nav_menu": {},
   "number_sections": false,
   "sideBar": true,
   "skip_h1_title": false,
   "title_cell": "Table of Contents",
   "title_sidebar": "Contents",
   "toc_cell": false,
   "toc_position": {
    "height": "calc(100% - 180px)",
    "left": "10px",
    "top": "150px",
    "width": "240.2px"
   },
   "toc_section_display": true,
   "toc_window_display": true
  }
 },
 "nbformat": 4,
 "nbformat_minor": 4
}
